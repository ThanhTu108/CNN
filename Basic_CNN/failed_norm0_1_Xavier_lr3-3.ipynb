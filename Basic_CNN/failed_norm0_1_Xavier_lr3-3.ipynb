{
  "cells": [
    {
      "cell_type": "code",
      "execution_count": 1,
      "id": "9d10c556",
      "metadata": {
        "id": "9d10c556"
      },
      "outputs": [],
      "source": [
        "import torch\n",
        "import torch.nn as nn\n",
        "import torch.nn.init as init\n",
        "import torch.nn.functional as F\n",
        "\n",
        "import matplotlib.pyplot as plt\n",
        "import numpy as np\n",
        "\n",
        "import torchvision\n",
        "import torchvision.transforms as transforms\n",
        "\n",
        "from torchvision.datasets import CIFAR10\n",
        "from torch.optim import Adam\n",
        "from torch.utils.data import DataLoader\n"
      ]
    },
    {
      "cell_type": "code",
      "execution_count": 2,
      "id": "2abfcb3a",
      "metadata": {
        "colab": {
          "base_uri": "https://localhost:8080/"
        },
        "id": "2abfcb3a",
        "outputId": "741f74f9-e5fc-466a-cd00-2cb5e1405b96"
      },
      "outputs": [
        {
          "name": "stdout",
          "output_type": "stream",
          "text": [
            "device is use:  cuda\n"
          ]
        }
      ],
      "source": [
        "torch.manual_seed(1)\n",
        "device = 'cuda' if torch.cuda.is_available() else 'cpu'\n",
        "print('device is use: ', device)"
      ]
    },
    {
      "cell_type": "markdown",
      "id": "10c54447",
      "metadata": {
        "id": "10c54447"
      },
      "source": [
        "# Data\n"
      ]
    },
    {
      "cell_type": "code",
      "execution_count": 3,
      "id": "6222b1f4",
      "metadata": {
        "colab": {
          "base_uri": "https://localhost:8080/"
        },
        "id": "6222b1f4",
        "outputId": "07dcd6f2-ce4f-4e39-953e-c4dab795fcc6"
      },
      "outputs": [
        {
          "name": "stderr",
          "output_type": "stream",
          "text": [
            "100%|██████████| 170M/170M [00:03<00:00, 44.1MB/s]\n"
          ]
        }
      ],
      "source": [
        "batch_size = 256\n",
        "transform = transforms.Compose([transforms.ToTensor()])\n",
        "\n",
        "train_set = CIFAR10(\n",
        "    root = './../data_cifar10',\n",
        "    train= True,\n",
        "    download= True,\n",
        "    transform=transform,\n",
        ")\n",
        "val_set = CIFAR10(\n",
        "    root = './../data_cifar10',\n",
        "    train= False,\n",
        "    download= True,\n",
        "    transform=transform,\n",
        ")\n",
        "\n",
        "train_loader = DataLoader(train_set, batch_size=batch_size,\n",
        "                          shuffle=True, num_workers=2)\n",
        "test_loader = DataLoader(val_set, batch_size=batch_size,\n",
        "                         shuffle=False,\n",
        "                         num_workers=2)"
      ]
    },
    {
      "cell_type": "markdown",
      "id": "c0f36c39",
      "metadata": {
        "id": "c0f36c39"
      },
      "source": [
        "# Model"
      ]
    },
    {
      "cell_type": "markdown",
      "id": "d703ad88",
      "metadata": {
        "id": "d703ad88"
      },
      "source": [
        "Add more layer to the model"
      ]
    },
    {
      "cell_type": "code",
      "execution_count": 4,
      "id": "d1ee192e",
      "metadata": {
        "id": "d1ee192e"
      },
      "outputs": [],
      "source": [
        "class CNNModel(nn.Module):\n",
        "    def __init__(self, n_classes = 10):\n",
        "        super(CNNModel, self).__init__()\n",
        "        self.conv_layer1 = nn.Sequential(\n",
        "            nn.Conv2d(3, 64, kernel_size=3, stride=1, padding=1),\n",
        "            nn.ReLU()\n",
        "        )\n",
        "        self.conv_layer2 = nn.Sequential(\n",
        "            nn.Conv2d(64, 64, 3, 1, padding=1),\n",
        "            nn.ReLU()\n",
        "        )\n",
        "\n",
        "        self.conv_layer3 = nn.Sequential(\n",
        "            nn.Conv2d(64, 64, 3, 1, padding=1),\n",
        "            nn.ReLU(),\n",
        "            nn.MaxPool2d(kernel_size=2, stride= 2)\n",
        "        )\n",
        "\n",
        "        self.conv_layer4 = nn.Sequential(\n",
        "            nn.Conv2d(64, 128, 3, 1, padding=1),\n",
        "            nn.ReLU()\n",
        "        )\n",
        "        self.conv_layer5 = nn.Sequential(\n",
        "            nn.Conv2d(128, 128, 3, 1, padding=1),\n",
        "            nn.ReLU()\n",
        "        )\n",
        "        self.conv_layer6 = nn.Sequential(\n",
        "            nn.Conv2d(128, 128, 3, 1, padding=1),\n",
        "            nn.ReLU(),\n",
        "            nn.MaxPool2d(kernel_size=2, stride=2)\n",
        "        )\n",
        "        self.conv_layer7 = nn.Sequential(\n",
        "            nn.Conv2d(128, 256, 3, 1, padding=1),\n",
        "            nn.ReLU(),\n",
        "        )\n",
        "        self.conv_layer8 = nn.Sequential(\n",
        "            nn.Conv2d(256, 256, 3, 1, padding=1),\n",
        "            nn.ReLU(),\n",
        "        )\n",
        "        self.conv_layer9 = nn.Sequential(\n",
        "            nn.Conv2d(256, 256, 3, stride=1, padding=1),\n",
        "            nn.ReLU(),\n",
        "            nn.MaxPool2d(kernel_size=2, stride=2)\n",
        "        )\n",
        "\n",
        "        self.conv_layer10 = nn.Sequential(\n",
        "            nn.Conv2d(256, 512, 3, 1, padding=1),\n",
        "            nn.ReLU(),\n",
        "        )\n",
        "        self.conv_layer11 = nn.Sequential(\n",
        "            nn.Conv2d(512, 512, 3, 1, padding=1),\n",
        "            nn.ReLU()\n",
        "        )\n",
        "        self.conv_layer12 = nn.Sequential(\n",
        "            nn.Conv2d(512, 512, 3, 1, padding=1),\n",
        "            nn.ReLU(),\n",
        "            nn.MaxPool2d(kernel_size=2, stride=2)\n",
        "        )\n",
        "\n",
        "        self.flatten = nn.Flatten()\n",
        "        self.dense1 = nn.Sequential(\n",
        "            nn.Linear(512*2*2, 512),\n",
        "            nn.ReLU()\n",
        "        )\n",
        "        self.dense2 = nn.Linear(512, n_classes)\n",
        "\n",
        "        self.initialize_weights()\n",
        "    def initialize_weights(self):\n",
        "        for m in self.modules():\n",
        "            if isinstance(m, nn.Conv2d):\n",
        "                init.xavier_uniform_(m.weight)\n",
        "                if m.bias is not None:\n",
        "                    init.zeros_(m.bias)\n",
        "            elif isinstance(m, nn.Linear):\n",
        "                init.xavier_uniform_(m.weight)\n",
        "                if m.bias is not None:\n",
        "                    init.zeros_(m.bias)\n",
        "    def forward(self, x):\n",
        "        x = self.conv_layer1(x)\n",
        "        x = self.conv_layer2(x)\n",
        "        x = self.conv_layer3(x)\n",
        "        x = self.conv_layer4(x)\n",
        "        x = self.conv_layer5(x)\n",
        "        x = self.conv_layer6(x)\n",
        "        x = self.conv_layer7(x)\n",
        "        x = self.conv_layer8(x)\n",
        "        x = self.conv_layer9(x)\n",
        "        x = self.conv_layer10(x)\n",
        "        x = self.conv_layer11(x)\n",
        "        x = self.conv_layer12(x)\n",
        "        x = self.flatten(x)\n",
        "        x = self.dense1(x)\n",
        "        x = self.dense2(x)\n",
        "\n",
        "        return x"
      ]
    },
    {
      "cell_type": "code",
      "execution_count": null,
      "id": "8d81744d",
      "metadata": {
        "id": "8d81744d"
      },
      "outputs": [],
      "source": []
    },
    {
      "cell_type": "code",
      "execution_count": 5,
      "id": "f88b9ad4",
      "metadata": {
        "colab": {
          "base_uri": "https://localhost:8080/"
        },
        "id": "f88b9ad4",
        "outputId": "3ce0d89a-fba7-4b41-a8fc-c5278b92e655"
      },
      "outputs": [
        {
          "name": "stdout",
          "output_type": "stream",
          "text": [
            "CNNModel(\n",
            "  (conv_layer1): Sequential(\n",
            "    (0): Conv2d(3, 64, kernel_size=(3, 3), stride=(1, 1), padding=(1, 1))\n",
            "    (1): ReLU()\n",
            "  )\n",
            "  (conv_layer2): Sequential(\n",
            "    (0): Conv2d(64, 64, kernel_size=(3, 3), stride=(1, 1), padding=(1, 1))\n",
            "    (1): ReLU()\n",
            "  )\n",
            "  (conv_layer3): Sequential(\n",
            "    (0): Conv2d(64, 64, kernel_size=(3, 3), stride=(1, 1), padding=(1, 1))\n",
            "    (1): ReLU()\n",
            "    (2): MaxPool2d(kernel_size=2, stride=2, padding=0, dilation=1, ceil_mode=False)\n",
            "  )\n",
            "  (conv_layer4): Sequential(\n",
            "    (0): Conv2d(64, 128, kernel_size=(3, 3), stride=(1, 1), padding=(1, 1))\n",
            "    (1): ReLU()\n",
            "  )\n",
            "  (conv_layer5): Sequential(\n",
            "    (0): Conv2d(128, 128, kernel_size=(3, 3), stride=(1, 1), padding=(1, 1))\n",
            "    (1): ReLU()\n",
            "  )\n",
            "  (conv_layer6): Sequential(\n",
            "    (0): Conv2d(128, 128, kernel_size=(3, 3), stride=(1, 1), padding=(1, 1))\n",
            "    (1): ReLU()\n",
            "    (2): MaxPool2d(kernel_size=2, stride=2, padding=0, dilation=1, ceil_mode=False)\n",
            "  )\n",
            "  (conv_layer7): Sequential(\n",
            "    (0): Conv2d(128, 256, kernel_size=(3, 3), stride=(1, 1), padding=(1, 1))\n",
            "    (1): ReLU()\n",
            "  )\n",
            "  (conv_layer8): Sequential(\n",
            "    (0): Conv2d(256, 256, kernel_size=(3, 3), stride=(1, 1), padding=(1, 1))\n",
            "    (1): ReLU()\n",
            "  )\n",
            "  (conv_layer9): Sequential(\n",
            "    (0): Conv2d(256, 256, kernel_size=(3, 3), stride=(1, 1), padding=(1, 1))\n",
            "    (1): ReLU()\n",
            "    (2): MaxPool2d(kernel_size=2, stride=2, padding=0, dilation=1, ceil_mode=False)\n",
            "  )\n",
            "  (conv_layer10): Sequential(\n",
            "    (0): Conv2d(256, 512, kernel_size=(3, 3), stride=(1, 1), padding=(1, 1))\n",
            "    (1): ReLU()\n",
            "  )\n",
            "  (conv_layer11): Sequential(\n",
            "    (0): Conv2d(512, 512, kernel_size=(3, 3), stride=(1, 1), padding=(1, 1))\n",
            "    (1): ReLU()\n",
            "  )\n",
            "  (conv_layer12): Sequential(\n",
            "    (0): Conv2d(512, 512, kernel_size=(3, 3), stride=(1, 1), padding=(1, 1))\n",
            "    (1): ReLU()\n",
            "    (2): MaxPool2d(kernel_size=2, stride=2, padding=0, dilation=1, ceil_mode=False)\n",
            "  )\n",
            "  (flatten): Flatten(start_dim=1, end_dim=-1)\n",
            "  (dense1): Sequential(\n",
            "    (0): Linear(in_features=2048, out_features=512, bias=True)\n",
            "    (1): ReLU()\n",
            "  )\n",
            "  (dense2): Linear(in_features=512, out_features=10, bias=True)\n",
            ")\n"
          ]
        }
      ],
      "source": [
        "model = CNNModel(n_classes=10)\n",
        "output = model(torch.rand(1,3,32,32))\n",
        "model.to(device)\n",
        "print(model)"
      ]
    },
    {
      "cell_type": "code",
      "execution_count": null,
      "id": "TkkE3FCDdkR3",
      "metadata": {
        "id": "TkkE3FCDdkR3"
      },
      "outputs": [],
      "source": []
    },
    {
      "cell_type": "markdown",
      "id": "f44d068d",
      "metadata": {
        "id": "f44d068d"
      },
      "source": [
        "# Train"
      ]
    },
    {
      "cell_type": "code",
      "execution_count": 6,
      "id": "269d734b",
      "metadata": {
        "id": "269d734b"
      },
      "outputs": [],
      "source": [
        "criterion = nn.CrossEntropyLoss()\n",
        "optimizer = Adam(model.parameters(), lr= 1e-3)"
      ]
    },
    {
      "cell_type": "code",
      "execution_count": 7,
      "id": "e1d831c7",
      "metadata": {
        "id": "e1d831c7"
      },
      "outputs": [],
      "source": [
        "def evaluate(model, test_loader, criterion):\n",
        "    model.eval()\n",
        "    test_loss = 0.0\n",
        "    running_correct = 0\n",
        "    total = 0\n",
        "\n",
        "    with torch.no_grad():\n",
        "        for images, labels in test_loader:\n",
        "            images, labels = images.to(device), labels.to(device)\n",
        "\n",
        "            outputs = model(images)\n",
        "            loss = criterion(outputs, labels)\n",
        "            test_loss += loss.item()\n",
        "\n",
        "            _,predicted = torch.max(outputs.data, 1)\n",
        "            total += labels.size(0)\n",
        "            running_correct += (predicted == labels).sum().item()\n",
        "\n",
        "        accuracy = 100*running_correct/total\n",
        "        test_loss = test_loss / len(test_loader)\n",
        "        return test_loss, accuracy"
      ]
    },
    {
      "cell_type": "code",
      "execution_count": 8,
      "id": "6c8809fe",
      "metadata": {
        "id": "6c8809fe"
      },
      "outputs": [],
      "source": [
        "# parameter\n",
        "train_losses = []\n",
        "train_accuracies = []\n",
        "test_losses = []\n",
        "test_accuracies = []\n",
        "epochs_max = 20\n"
      ]
    },
    {
      "cell_type": "code",
      "execution_count": 9,
      "id": "36d5d6d3",
      "metadata": {
        "colab": {
          "base_uri": "https://localhost:8080/"
        },
        "id": "36d5d6d3",
        "outputId": "8ab9aaa1-ba44-47b0-f0a0-35426999d4cc"
      },
      "outputs": [
        {
          "name": "stdout",
          "output_type": "stream",
          "text": [
            "Epoch [1/20], Loss: 2.1837, Accuracy: 15.67%, Test Loss: 1.7771, Test Accuracy: 32.10%\n",
            "Epoch [2/20], Loss: 1.6673, Accuracy: 36.53%, Test Loss: 1.5665, Test Accuracy: 41.60%\n",
            "Epoch [3/20], Loss: 1.4197, Accuracy: 46.58%, Test Loss: 1.4021, Test Accuracy: 49.92%\n",
            "Epoch [4/20], Loss: 1.2208, Accuracy: 55.28%, Test Loss: 1.1707, Test Accuracy: 57.83%\n",
            "Epoch [5/20], Loss: 1.0584, Accuracy: 61.80%, Test Loss: 1.0156, Test Accuracy: 63.68%\n",
            "Epoch [6/20], Loss: 0.9166, Accuracy: 66.92%, Test Loss: 0.9476, Test Accuracy: 66.11%\n",
            "Epoch [7/20], Loss: 0.8089, Accuracy: 70.96%, Test Loss: 0.9023, Test Accuracy: 68.46%\n",
            "Epoch [8/20], Loss: 0.7075, Accuracy: 74.89%, Test Loss: 0.7963, Test Accuracy: 72.10%\n",
            "Epoch [9/20], Loss: 0.6195, Accuracy: 78.11%, Test Loss: 0.8108, Test Accuracy: 72.58%\n",
            "Epoch [10/20], Loss: 0.5515, Accuracy: 80.45%, Test Loss: 0.7270, Test Accuracy: 75.88%\n",
            "Epoch [11/20], Loss: 0.4899, Accuracy: 82.81%, Test Loss: 0.7432, Test Accuracy: 76.04%\n",
            "Epoch [12/20], Loss: 0.4368, Accuracy: 84.64%, Test Loss: 0.7402, Test Accuracy: 76.85%\n",
            "Epoch [13/20], Loss: 0.3893, Accuracy: 86.48%, Test Loss: 0.8419, Test Accuracy: 73.66%\n",
            "Epoch [14/20], Loss: 0.3510, Accuracy: 87.72%, Test Loss: 0.7662, Test Accuracy: 76.72%\n",
            "Epoch [15/20], Loss: 0.3090, Accuracy: 89.21%, Test Loss: 0.7713, Test Accuracy: 76.31%\n",
            "Epoch [16/20], Loss: 0.2745, Accuracy: 90.46%, Test Loss: 0.7828, Test Accuracy: 76.37%\n",
            "Epoch [17/20], Loss: 0.2328, Accuracy: 91.76%, Test Loss: 0.8951, Test Accuracy: 76.75%\n",
            "Epoch [18/20], Loss: 0.2101, Accuracy: 92.64%, Test Loss: 0.9455, Test Accuracy: 75.66%\n",
            "Epoch [19/20], Loss: 0.1981, Accuracy: 93.02%, Test Loss: 0.9281, Test Accuracy: 76.52%\n",
            "Epoch [20/20], Loss: 0.1704, Accuracy: 94.06%, Test Loss: 0.9335, Test Accuracy: 76.82%\n"
          ]
        }
      ],
      "source": [
        "# train\n",
        "for epoch in range(epochs_max):\n",
        "    model.train()\n",
        "    running_loss = 0.0\n",
        "    running_correct = 0\n",
        "    total = 0\n",
        "    for i, (inputs, labels) in enumerate(train_loader, 0):\n",
        "        inputs, labels = inputs.to(device), labels.to(device)\n",
        "        optimizer.zero_grad()\n",
        "        # Foward, optimizer\n",
        "        outputs = model(inputs)\n",
        "        loss = criterion(outputs, labels)\n",
        "        running_loss += loss.item()\n",
        "\n",
        "        # backward propagation\n",
        "        loss.backward()\n",
        "        optimizer.step()\n",
        "\n",
        "        _, predicted = torch.max(outputs.data, 1)\n",
        "        total+= labels.size(0)\n",
        "        running_correct += (predicted == labels).sum().item()\n",
        "\n",
        "    epoch_accuracy = 100 *running_correct/total\n",
        "    epoch_loss = running_loss / (i+1)\n",
        "\n",
        "    test_loss, test_accuracy = evaluate(model, test_loader, criterion)\n",
        "    print(f\"Epoch [{epoch + 1}/{epochs_max}], Loss: {epoch_loss:.4f}, Accuracy: {epoch_accuracy:.2f}%, Test Loss: {test_loss:.4f}, Test Accuracy: {test_accuracy:.2f}%\")\n",
        "\n",
        "    train_losses.append(epoch_loss)\n",
        "    train_accuracies.append(epoch_accuracy)\n",
        "    test_losses.append(test_loss)\n",
        "    test_accuracies.append(test_accuracy)"
      ]
    },
    {
      "cell_type": "code",
      "execution_count": 10,
      "id": "1aYQzCTleXb1",
      "metadata": {
        "colab": {
          "base_uri": "https://localhost:8080/",
          "height": 447
        },
        "id": "1aYQzCTleXb1",
        "outputId": "a217b7f2-c87b-4d0d-c791-7592d18bee40"
      },
      "outputs": [
        {
          "data": {
            "text/plain": [
              "<matplotlib.legend.Legend at 0x780a86319370>"
            ]
          },
          "execution_count": 10,
          "metadata": {},
          "output_type": "execute_result"
        },
        {
          "data": {
            "image/png": "[encoded data removed]",
            "text/plain": [
              "<Figure size 640x480 with 1 Axes>"
            ]
          },
          "metadata": {},
          "output_type": "display_data"
        }
      ],
      "source": [
        "import matplotlib.pyplot as plt\n",
        "\n",
        "plt.plot(train_losses, label='train_losses')\n",
        "plt.plot(test_losses, label='test_losses')\n",
        "plt.legend()"
      ]
    },
    {
      "cell_type": "code",
      "execution_count": 11,
      "id": "avUzlayXeeZd",
      "metadata": {
        "colab": {
          "base_uri": "https://localhost:8080/",
          "height": 447
        },
        "id": "avUzlayXeeZd",
        "outputId": "69135e90-5a9a-4745-e2e0-fb84d7edfc60"
      },
      "outputs": [
        {
          "data": {
            "text/plain": [
              "<matplotlib.legend.Legend at 0x780a86324d70>"
            ]
          },
          "execution_count": 11,
          "metadata": {},
          "output_type": "execute_result"
        },
        {
          "data": {
            "image/png": "[encoded data removed]",
            "text/plain": [
              "<Figure size 640x480 with 1 Axes>"
            ]
          },
          "metadata": {},
          "output_type": "display_data"
        }
      ],
      "source": [
        "plt.plot(train_accuracies, label='train_accuracy')\n",
        "plt.plot(test_accuracies, label='test_accuracy')\n",
        "plt.legend()"
      ]
    }
  ],
  "metadata": {
    "accelerator": "GPU",
    "colab": {
      "gpuType": "T4",
      "provenance": [],
      "toc_visible": true
    },
    "kernelspec": {
      "display_name": ".venv (3.11.9)",
      "language": "python",
      "name": "python3"
    },
    "language_info": {
      "codemirror_mode": {
        "name": "ipython",
        "version": 3
      },
      "file_extension": ".py",
      "mimetype": "text/x-python",
      "name": "python",
      "nbconvert_exporter": "python",
      "pygments_lexer": "ipython3",
      "version": "3.11.9"
    }
  },
  "nbformat": 4,
  "nbformat_minor": 5
}
