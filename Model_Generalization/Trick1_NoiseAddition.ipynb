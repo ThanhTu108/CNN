{
 "cells": [
  {
   "cell_type": "markdown",
   "id": "050f23f3",
   "metadata": {},
   "source": []
  },
  {
   "cell_type": "code",
   "execution_count": 1,
   "id": "0c2d8467",
   "metadata": {},
   "outputs": [],
   "source": [
    "# Baseline: \n",
    "# zScore Normalization\n",
    "# 4 blocks (2, 2, 3, 3)\n",
    "# ReLU, He\n",
    "# Adam _ lr=1e-3\n",
    "\n",
    "import torch\n",
    "import torchvision.transforms as transforms\n",
    "import torch.nn as nn \n",
    "import torch.nn.functional as F \n",
    "\n",
    "import numpy as np \n",
    "import matplotlib.pyplot as plt \n",
    "from torchvision.datasets import CIFAR10 \n",
    "from torch.utils.data import DataLoader\n",
    "from torch.optim import Adam\n",
    "import torchvision"
   ]
  },
  {
   "cell_type": "code",
   "execution_count": 3,
   "id": "1246cf5b",
   "metadata": {},
   "outputs": [
    {
     "name": "stdout",
     "output_type": "stream",
     "text": [
      "cuda\n"
     ]
    }
   ],
   "source": [
    "device = 'cuda' if torch.cuda.is_available() else 'cpu'\n",
    "print(device)"
   ]
  },
  {
   "cell_type": "markdown",
   "id": "33948497",
   "metadata": {},
   "source": [
    "# Data"
   ]
  },
  {
   "cell_type": "code",
   "execution_count": null,
   "id": "958a27fa",
   "metadata": {},
   "outputs": [],
   "source": [
    "batch_size = 256\n",
    "\n",
    "transform = transforms.Compose([\n",
    "    transforms.ToTensor(),\n",
    "    transforms.Normalize([0.4914, 0.4822, 0.4465], \n",
    "                         [0.2470, 0.2435, 0.2616]),\n",
    "    # Add noise\n",
    "    transforms.RandomErasing(p= 0.75,\n",
    "                             scale= (0.01, 0.3),\n",
    "                             ratio=(1.0, 1.0),\n",
    "                             value= 0,\n",
    "                             inplace=True)\n",
    "])\n"
   ]
  }
 ],
 "metadata": {
  "kernelspec": {
   "display_name": ".venv (3.11.9)",
   "language": "python",
   "name": "python3"
  },
  "language_info": {
   "codemirror_mode": {
    "name": "ipython",
    "version": 3
   },
   "file_extension": ".py",
   "mimetype": "text/x-python",
   "name": "python",
   "nbconvert_exporter": "python",
   "pygments_lexer": "ipython3",
   "version": "3.11.9"
  }
 },
 "nbformat": 4,
 "nbformat_minor": 5
}
