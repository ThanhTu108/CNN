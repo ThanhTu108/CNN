{
  "cells": [
    {
      "cell_type": "markdown",
      "id": "2e3b73ae",
      "metadata": {
        "id": "2e3b73ae"
      },
      "source": [
        "# Model_generalization"
      ]
    },
    {
      "cell_type": "markdown",
      "id": "a4c283cf",
      "metadata": {
        "id": "a4c283cf"
      },
      "source": [
        "![image.png](attachment:image.png)"
      ]
    },
    {
      "cell_type": "code",
      "execution_count": 10,
      "id": "5e5a147e",
      "metadata": {
        "id": "5e5a147e"
      },
      "outputs": [],
      "source": [
        "# Baseline:\n",
        "# zScore Normalization\n",
        "# 4 blocks (2, 2, 3, 3)\n",
        "# Relu, He\n",
        "# Adam _lr = 1e-3\n",
        "\n",
        "import torch\n",
        "import torchvision.transforms as transforms\n",
        "import torch.nn as nn\n",
        "import torch.nn.functional as F\n",
        "\n",
        "import numpy as np\n",
        "import matplotlib.pyplot as plt\n",
        "\n",
        "import torchvision"
      ]
    },
    {
      "cell_type": "code",
      "execution_count": 11,
      "id": "eda2b98e",
      "metadata": {
        "colab": {
          "base_uri": "https://localhost:8080/"
        },
        "id": "eda2b98e",
        "outputId": "ccd07eeb-a527-44d2-c739-dfb817672b22"
      },
      "outputs": [
        {
          "output_type": "stream",
          "name": "stdout",
          "text": [
            "cuda\n"
          ]
        }
      ],
      "source": [
        "device ='cuda' if torch.cuda.is_available() else 'cpu'\n",
        "print(device)"
      ]
    },
    {
      "cell_type": "markdown",
      "id": "a43a9555",
      "metadata": {
        "id": "a43a9555"
      },
      "source": [
        "# Data"
      ]
    },
    {
      "cell_type": "code",
      "execution_count": 12,
      "id": "5d6ff942",
      "metadata": {
        "id": "5d6ff942"
      },
      "outputs": [],
      "source": [
        "batch_size = 256\n",
        "transform = transforms.Compose([\n",
        "    transforms.ToTensor(),\n",
        "    transforms.Normalize([0.4914, 0.4822, 0.4465],\n",
        "                         [0.2470, 0.2435, 0.2616])\n",
        "])\n",
        "\n",
        "train_set = torchvision.datasets.CIFAR10(\n",
        "    root = './../data_cifar10',\n",
        "    train=True,\n",
        "    download=True,\n",
        "    transform=transform\n",
        ")\n",
        "\n",
        "val_set = torchvision.datasets.CIFAR10(\n",
        "    root = './../data_cifar10',\n",
        "    train=False,\n",
        "    download=True,\n",
        "    transform=transform\n",
        ")\n",
        "\n",
        "train_loader = torch.utils.data.DataLoader(\n",
        "    train_set, batch_size=batch_size,\n",
        "    shuffle=True, num_workers=2,\n",
        ")\n",
        "\n",
        "test_loader = torch.utils.data.DataLoader(\n",
        "    val_set, batch_size=batch_size,\n",
        "    shuffle=True, num_workers=2,\n",
        ")"
      ]
    },
    {
      "cell_type": "markdown",
      "id": "b7454823",
      "metadata": {
        "id": "b7454823"
      },
      "source": [
        "# Model"
      ]
    },
    {
      "cell_type": "code",
      "execution_count": 13,
      "id": "9c9fc2d6",
      "metadata": {
        "id": "9c9fc2d6"
      },
      "outputs": [],
      "source": [
        "class CNNModel(nn.Module):\n",
        "    def __init__(self, n_classes = 10):\n",
        "        super(CNNModel, self).__init__()\n",
        "        self.conv_layer1 = nn.Sequential(\n",
        "            nn.Conv2d(3, 32, 3, stride=1, padding=1),\n",
        "            nn.ReLU()\n",
        "        )\n",
        "        self.conv_layer2 = nn.Sequential(\n",
        "            nn.Conv2d(32, 32, 3, stride=1, padding=1),\n",
        "            nn.ReLU(),\n",
        "            nn.MaxPool2d(2,2)\n",
        "        )\n",
        "        self.conv_layer3 = nn.Sequential(\n",
        "            nn.Conv2d(32, 64, 3, stride=1, padding='same'),\n",
        "            nn.ReLU(),\n",
        "        )\n",
        "        self.conv_layer4 = nn.Sequential(\n",
        "            nn.Conv2d(64, 64, 3, stride=1, padding='same'),\n",
        "            nn.ReLU(),\n",
        "            nn.MaxPool2d(2, 2)\n",
        "        )\n",
        "\n",
        "        self.conv_layer5 = nn.Sequential(\n",
        "            nn.Conv2d(64, 128, 3, stride=1, padding='same'),\n",
        "            nn.ReLU(),\n",
        "        )\n",
        "        self.conv_layer6 = nn.Sequential(\n",
        "            nn.Conv2d(128, 128, 3, stride=1, padding='same'),\n",
        "            nn.ReLU(),\n",
        "        )\n",
        "        self.conv_layer7 = nn.Sequential(\n",
        "            nn.Conv2d(128, 128, 3, stride=1, padding='same'),\n",
        "            nn.ReLU(),\n",
        "            nn.MaxPool2d(2, 2)\n",
        "        )\n",
        "\n",
        "        self.conv_layer8 = nn.Sequential(\n",
        "            nn.Conv2d(128, 256, 3, stride=1, padding='same'),\n",
        "            nn.ReLU(),\n",
        "        )\n",
        "        self.conv_layer9 = nn.Sequential(\n",
        "            nn.Conv2d(256, 256, 3, stride=1, padding='same'),\n",
        "            nn.ReLU(),\n",
        "        )\n",
        "        self.conv_layer10 = nn.Sequential(\n",
        "            nn.Conv2d(256, 256, 3, stride=1, padding='same'),\n",
        "            nn.ReLU(),\n",
        "            nn.MaxPool2d(2, 2)\n",
        "        )\n",
        "\n",
        "        self.classifier = nn.Sequential(\n",
        "            nn.Flatten(),\n",
        "            nn.Linear(256*2*2, 512),\n",
        "            nn.ReLU(),\n",
        "            nn.Linear(512, n_classes)\n",
        "        )\n",
        "    def forward(self, x):\n",
        "        x = self.conv_layer1(x)\n",
        "        x = self.conv_layer2(x)\n",
        "        x = self.conv_layer3(x)\n",
        "        x = self.conv_layer4(x)\n",
        "        x = self.conv_layer5(x)\n",
        "        x = self.conv_layer6(x)\n",
        "        x = self.conv_layer7(x)\n",
        "        x = self.conv_layer8(x)\n",
        "        x = self.conv_layer9(x)\n",
        "        x = self.conv_layer10(x)\n",
        "        out = self.classifier(x)\n",
        "\n",
        "        return out"
      ]
    },
    {
      "cell_type": "code",
      "execution_count": 14,
      "id": "308b04c4",
      "metadata": {
        "colab": {
          "base_uri": "https://localhost:8080/"
        },
        "id": "308b04c4",
        "outputId": "84068577-8942-44a6-dfd6-e0dc20c74ca0"
      },
      "outputs": [
        {
          "output_type": "stream",
          "name": "stdout",
          "text": [
            "CNNModel(\n",
            "  (conv_layer1): Sequential(\n",
            "    (0): Conv2d(3, 32, kernel_size=(3, 3), stride=(1, 1), padding=(1, 1))\n",
            "    (1): ReLU()\n",
            "  )\n",
            "  (conv_layer2): Sequential(\n",
            "    (0): Conv2d(32, 32, kernel_size=(3, 3), stride=(1, 1), padding=(1, 1))\n",
            "    (1): ReLU()\n",
            "    (2): MaxPool2d(kernel_size=2, stride=2, padding=0, dilation=1, ceil_mode=False)\n",
            "  )\n",
            "  (conv_layer3): Sequential(\n",
            "    (0): Conv2d(32, 64, kernel_size=(3, 3), stride=(1, 1), padding=same)\n",
            "    (1): ReLU()\n",
            "  )\n",
            "  (conv_layer4): Sequential(\n",
            "    (0): Conv2d(64, 64, kernel_size=(3, 3), stride=(1, 1), padding=same)\n",
            "    (1): ReLU()\n",
            "    (2): MaxPool2d(kernel_size=2, stride=2, padding=0, dilation=1, ceil_mode=False)\n",
            "  )\n",
            "  (conv_layer5): Sequential(\n",
            "    (0): Conv2d(64, 128, kernel_size=(3, 3), stride=(1, 1), padding=same)\n",
            "    (1): ReLU()\n",
            "  )\n",
            "  (conv_layer6): Sequential(\n",
            "    (0): Conv2d(128, 128, kernel_size=(3, 3), stride=(1, 1), padding=same)\n",
            "    (1): ReLU()\n",
            "  )\n",
            "  (conv_layer7): Sequential(\n",
            "    (0): Conv2d(128, 128, kernel_size=(3, 3), stride=(1, 1), padding=same)\n",
            "    (1): ReLU()\n",
            "    (2): MaxPool2d(kernel_size=2, stride=2, padding=0, dilation=1, ceil_mode=False)\n",
            "  )\n",
            "  (conv_layer8): Sequential(\n",
            "    (0): Conv2d(128, 256, kernel_size=(3, 3), stride=(1, 1), padding=same)\n",
            "    (1): ReLU()\n",
            "  )\n",
            "  (conv_layer9): Sequential(\n",
            "    (0): Conv2d(256, 256, kernel_size=(3, 3), stride=(1, 1), padding=same)\n",
            "    (1): ReLU()\n",
            "  )\n",
            "  (conv_layer10): Sequential(\n",
            "    (0): Conv2d(256, 256, kernel_size=(3, 3), stride=(1, 1), padding=same)\n",
            "    (1): ReLU()\n",
            "    (2): MaxPool2d(kernel_size=2, stride=2, padding=0, dilation=1, ceil_mode=False)\n",
            "  )\n",
            "  (classifier): Sequential(\n",
            "    (0): Flatten(start_dim=1, end_dim=-1)\n",
            "    (1): Linear(in_features=1024, out_features=512, bias=True)\n",
            "    (2): ReLU()\n",
            "    (3): Linear(in_features=512, out_features=10, bias=True)\n",
            "  )\n",
            ")\n"
          ]
        }
      ],
      "source": [
        "model = CNNModel(10)\n",
        "model.to(device)\n",
        "print(model)"
      ]
    },
    {
      "cell_type": "markdown",
      "id": "1b17dd41",
      "metadata": {
        "id": "1b17dd41"
      },
      "source": [
        "# Train"
      ]
    },
    {
      "cell_type": "code",
      "execution_count": 15,
      "id": "874f9df0",
      "metadata": {
        "id": "874f9df0"
      },
      "outputs": [],
      "source": [
        "criterion = nn.CrossEntropyLoss()\n",
        "optimizer = torch.optim.Adam(model.parameters(), lr=1e-3)"
      ]
    },
    {
      "cell_type": "code",
      "execution_count": 16,
      "id": "3734578e",
      "metadata": {
        "id": "3734578e"
      },
      "outputs": [],
      "source": [
        "def evaluete(model, test_loader, criterion):\n",
        "    model.eval()\n",
        "    test_loss = 0.0\n",
        "    running_correct = 0\n",
        "    total = 0\n",
        "    with torch.no_grad():\n",
        "        for images, labels in test_loader:\n",
        "            images, labels = images.to(device), labels.to(device)\n",
        "\n",
        "            outputs = model(images)\n",
        "\n",
        "            loss = criterion(outputs, labels)\n",
        "            test_loss += loss.item()\n",
        "\n",
        "            _, predicted = torch.max(outputs.data, 1)\n",
        "            total += labels.size(0)\n",
        "\n",
        "            running_correct += (predicted == labels).sum().item()\n",
        "        accuracy = 100 * running_correct / total\n",
        "        test_loss = test_loss / len(test_loader)\n",
        "        return test_loss, accuracy\n",
        "\n"
      ]
    },
    {
      "cell_type": "code",
      "execution_count": 17,
      "id": "1519b2c8",
      "metadata": {
        "id": "1519b2c8"
      },
      "outputs": [],
      "source": [
        "train_losses = []\n",
        "train_accuracies = []\n",
        "test_losses =[]\n",
        "test_accuracies = []\n",
        "epochs_max = 20"
      ]
    },
    {
      "cell_type": "code",
      "execution_count": 18,
      "id": "e3865858",
      "metadata": {
        "colab": {
          "base_uri": "https://localhost:8080/"
        },
        "id": "e3865858",
        "outputId": "a2b30d40-dbd2-48c5-8ce3-6cf01e2459fb"
      },
      "outputs": [
        {
          "output_type": "stream",
          "name": "stdout",
          "text": [
            "Epoch [1/20], Loss: 1.9086, Accuracy: 25.88%, Test Loss: 1.6780, Test Accuracy: 35.92%\n",
            "Epoch [2/20], Loss: 1.4259, Accuracy: 46.33%, Test Loss: 1.2722, Test Accuracy: 52.90%\n",
            "Epoch [3/20], Loss: 1.1738, Accuracy: 57.15%, Test Loss: 1.0817, Test Accuracy: 60.97%\n",
            "Epoch [4/20], Loss: 0.9797, Accuracy: 64.84%, Test Loss: 1.0535, Test Accuracy: 62.23%\n",
            "Epoch [5/20], Loss: 0.8522, Accuracy: 69.57%, Test Loss: 0.8661, Test Accuracy: 69.24%\n",
            "Epoch [6/20], Loss: 0.7355, Accuracy: 73.75%, Test Loss: 0.8119, Test Accuracy: 72.14%\n",
            "Epoch [7/20], Loss: 0.6498, Accuracy: 77.02%, Test Loss: 0.7769, Test Accuracy: 73.73%\n",
            "Epoch [8/20], Loss: 0.5827, Accuracy: 79.56%, Test Loss: 0.7411, Test Accuracy: 74.81%\n",
            "Epoch [9/20], Loss: 0.5051, Accuracy: 82.31%, Test Loss: 0.7426, Test Accuracy: 76.40%\n",
            "Epoch [10/20], Loss: 0.4431, Accuracy: 84.44%, Test Loss: 0.7088, Test Accuracy: 77.26%\n",
            "Epoch [11/20], Loss: 0.3964, Accuracy: 86.02%, Test Loss: 0.7472, Test Accuracy: 76.89%\n",
            "Epoch [12/20], Loss: 0.3432, Accuracy: 87.94%, Test Loss: 0.7323, Test Accuracy: 76.50%\n",
            "Epoch [13/20], Loss: 0.3055, Accuracy: 89.28%, Test Loss: 0.7720, Test Accuracy: 77.55%\n",
            "Epoch [14/20], Loss: 0.2606, Accuracy: 90.76%, Test Loss: 0.8064, Test Accuracy: 76.39%\n",
            "Epoch [15/20], Loss: 0.2484, Accuracy: 91.26%, Test Loss: 0.8617, Test Accuracy: 76.20%\n",
            "Epoch [16/20], Loss: 0.2075, Accuracy: 92.66%, Test Loss: 0.8827, Test Accuracy: 77.07%\n",
            "Epoch [17/20], Loss: 0.1821, Accuracy: 93.60%, Test Loss: 0.9833, Test Accuracy: 77.33%\n",
            "Epoch [18/20], Loss: 0.1703, Accuracy: 93.98%, Test Loss: 1.0755, Test Accuracy: 77.34%\n",
            "Epoch [19/20], Loss: 0.1636, Accuracy: 94.25%, Test Loss: 1.0194, Test Accuracy: 76.96%\n",
            "Epoch [20/20], Loss: 0.1356, Accuracy: 95.21%, Test Loss: 0.9834, Test Accuracy: 77.09%\n"
          ]
        }
      ],
      "source": [
        "for epoch in range(epochs_max):\n",
        "    model.train()\n",
        "    running_loss = 0.0\n",
        "    running_correct = 0\n",
        "    total = 0\n",
        "    for i, (inputs, labels) in enumerate(train_loader, 0):\n",
        "        inputs, labels = inputs.to(device), labels.to(device)\n",
        "\n",
        "        optimizer.zero_grad()\n",
        "\n",
        "        outputs = model(inputs)\n",
        "        loss = criterion(outputs, labels)\n",
        "        running_loss += loss.item()\n",
        "\n",
        "        loss.backward()\n",
        "        optimizer.step()\n",
        "\n",
        "        _, predicted = torch.max(outputs.data, 1)\n",
        "        total += labels.size(0)\n",
        "\n",
        "        running_correct += (predicted==labels).sum().item()\n",
        "    epoch_accuracy = 100 * running_correct / total\n",
        "    epoch_loss = running_loss / (i+1)\n",
        "    test_loss, test_accuracy = evaluete(model, test_loader, criterion)\n",
        "\n",
        "    print(f\"Epoch [{epoch + 1}/{epochs_max}], Loss: {epoch_loss:.4f}, Accuracy: {epoch_accuracy:.2f}%, Test Loss: {test_loss:.4f}, Test Accuracy: {test_accuracy:.2f}%\")\n",
        "\n",
        "    train_losses.append(epoch_loss)\n",
        "    train_accuracies.append(epoch_accuracy)\n",
        "    test_losses.append(test_loss)\n",
        "    test_accuracies.append(test_accuracy)"
      ]
    },
    {
      "cell_type": "code",
      "source": [
        "import matplotlib.pyplot as plt\n",
        "\n",
        "plt.plot(train_losses, label='train_losses')\n",
        "plt.plot(test_losses, label='test_losses')\n",
        "plt.legend()"
      ],
      "metadata": {
        "colab": {
          "base_uri": "https://localhost:8080/",
          "height": 447
        },
        "id": "v-jZ5td2Brij",
        "outputId": "55e69ae6-28b3-4685-e6eb-c9dce8a8b5c2"
      },
      "id": "v-jZ5td2Brij",
      "execution_count": 19,
      "outputs": [
        {
          "output_type": "execute_result",
          "data": {
            "text/plain": [
              "<matplotlib.legend.Legend at 0x7ed1de0f8230>"
            ]
          },
          "metadata": {},
          "execution_count": 19
        },
        {
          "output_type": "display_data",
          "data": {
            "text/plain": [
              "<Figure size 640x480 with 1 Axes>"
            ],
            "image/png": "[encoded data removed]"
          },
          "metadata": {}
        }
      ]
    },
    {
      "cell_type": "code",
      "source": [
        "import matplotlib.pyplot as plt\n",
        "\n",
        "plt.plot(train_accuracies, label='train_accuracy')\n",
        "plt.plot(test_accuracies, label='test_accuracy')\n",
        "plt.legend()"
      ],
      "metadata": {
        "colab": {
          "base_uri": "https://localhost:8080/",
          "height": 447
        },
        "id": "0p-Na9OfBtwL",
        "outputId": "fce81c74-b92a-443e-ca74-57c20fbaea41"
      },
      "id": "0p-Na9OfBtwL",
      "execution_count": 20,
      "outputs": [
        {
          "output_type": "execute_result",
          "data": {
            "text/plain": [
              "<matplotlib.legend.Legend at 0x7ed1ddf2adb0>"
            ]
          },
          "metadata": {},
          "execution_count": 20
        },
        {
          "output_type": "display_data",
          "data": {
            "text/plain": [
              "<Figure size 640x480 with 1 Axes>"
            ],
            "image/png": "[encoded data removed]"
          },
          "metadata": {}
        }
      ]
    }
  ],
  "metadata": {
    "kernelspec": {
      "display_name": "Python 3",
      "name": "python3"
    },
    "language_info": {
      "codemirror_mode": {
        "name": "ipython",
        "version": 3
      },
      "file_extension": ".py",
      "mimetype": "text/x-python",
      "name": "python",
      "nbconvert_exporter": "python",
      "pygments_lexer": "ipython3",
      "version": "3.11.9"
    },
    "colab": {
      "provenance": [],
      "gpuType": "T4"
    },
    "accelerator": "GPU"
  },
  "nbformat": 4,
  "nbformat_minor": 5
}